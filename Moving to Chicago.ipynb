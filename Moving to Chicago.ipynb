{
 "cells": [
  {
   "cell_type": "markdown",
   "metadata": {},
   "source": [
    "## <center>Introduction/Business Problem<center>"
   ]
  },
  {
   "cell_type": "markdown",
   "metadata": {},
   "source": [
    "Chicago is a popular city for many individuals and families seeking to relocate. With a steady jobs market, unique neighborhoods and storied history, Chicago can be a home to people from many different backgrounds. However, given the myriad living options in Chicago, it can be difficult to choose the areas of the city that best fit the lifestyle choices, safety demands and housing budget of a prospective Chicagoan. \n",
    "\n",
    "According to [Forbes](https://www.forbes.com/sites/learnvest/2017/08/02/10-things-you-should-look-for-when-choosing-a-new-neighborhood/#1f21bf635fbc) and [Bankrate](https://www.bankrate.com/real-estate/how-to-find-a-good-neighborhood/), the top factors in choosing a neighborhood are:\n",
    "\n",
    " * Safety  \n",
    " * Home Prices/Rent\n",
    " * Socioeconomic indicators (per capita income, unemployment, etc.)\n",
    " * School Quality  \n",
    " * Proximity to Services (Public Transportation, Grocery, Dining, Shopping, Parks, etc.)\n",
    "\n",
    "Identifying trends across safety, school quality, socioeconomic strata and services, suitable living areas can be identified and compared with the characteristics of individuals to determine which areas in the city best fit their desired lifestyles."
   ]
  },
  {
   "cell_type": "markdown",
   "metadata": {},
   "source": [
    "## <center>Data<center>"
   ]
  },
  {
   "cell_type": "markdown",
   "metadata": {},
   "source": [
    "The data that will be used to solve this problem will be a combination of data from the [Chicago Data Portal](https://data.cityofchicago.org/) as well as the [Foursquare API](https://developer.foursquare.com/docs/). \n",
    "\n",
    "Safety/Crime Data will be sourced from the crime reports for the [Crimes - 2001 to present](https://data.cityofchicago.org/Public-Safety/Crimes-2020/qzdf-xmn8) dataset. This data clearly details the date, type, and location of crimes committed.\n",
    "\n",
    "Rent for a specific ZIP code or community area will be found using the [Quandl API for Housing Data](https://blog.quandl.com/api-for-housing-data). This API allows unlimited calls and returns data for a location or ZIP code including Estimated Rent for all homes in the region, price-to-rent ratio and many other factors that play into changes in housing data over time.\n",
    "\n",
    "Socioeconomic status and public health indicators will be used to determine the expense associated with living in a given community. This data will be sourced from the [Selected socioeconomic indicators 2008-2012 data](https://data.cityofchicago.org/Health-Human-Services/Census-Data-Selected-socioeconomic-indicators-in-C/kn9c-c2s2) This data identifies overall socioeconomic factors and public health indicators for each of the community areas in Chicago, including per capita income, hardship index, and unemployment for those over the age of 16.\n",
    "\n",
    "School Quality will be assessed using the [Chicago Public Schools - Progress Report Cards (2011-2012)](https://data.cityofchicago.org/Education/Chicago-Public-Schools-Progress-Report-Cards-2011-/9xs2-f89t) dataset. This dataset shows all school level performance data for 2011-2012.\n",
    "\n",
    "Finally, the Foursquare API will be used to gather data on the services available to members of each of the Chicago community areas."
   ]
  }
 ],
 "metadata": {
  "kernelspec": {
   "display_name": "Python 3",
   "language": "python",
   "name": "python3"
  },
  "language_info": {
   "codemirror_mode": {
    "name": "ipython",
    "version": 3
   },
   "file_extension": ".py",
   "mimetype": "text/x-python",
   "name": "python",
   "nbconvert_exporter": "python",
   "pygments_lexer": "ipython3",
   "version": "3.7.6"
  }
 },
 "nbformat": 4,
 "nbformat_minor": 4
}
